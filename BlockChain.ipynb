{
 "cells": [
  {
   "cell_type": "code",
   "execution_count": 5,
   "metadata": {},
   "outputs": [
    {
     "name": "stdout",
     "output_type": "stream",
     "text": [
      "Overwriting src/main.cpp\n"
     ]
    }
   ],
   "source": [
    "%%writefile src/main.cpp\n",
    "//==============================================================\n",
    "// Copyright © 2020 Intel Corporation\n",
    "//\n",
    "// SPDX-License-Identifier: MIT\n",
    "// =============================================================\n",
    "#include<CL/sycl.hpp>\n",
    "#include<iostream>\n",
    "\n",
    "#include \"Blockchain.h\"\n",
    "\n",
    "using namespace std;\n",
    "using namespace sycl;\n",
    "\n",
    "\n",
    "\n",
    "int main()\n",
    "{\n",
    "     auto start_time = std::chrono::high_resolution_clock::now();\n",
    "     \n",
    "    //select device to perform operations with  we selected cpu_selector\n",
    "    \n",
    "     queue q(cpu_selector{});\n",
    "    \n",
    "    \n",
    "//   queue q(gpu_selector{});\n",
    " \n",
    "    \n",
    "    std::cout << \"Device: \" << q.get_device().get_info<info::device::name>() << std::endl;\n",
    "    \n",
    "//      freopen(\"input1.txt\", \"r\", stdin);\n",
    "//      freopen(\"output1.txt\", \"w\", stdout);\n",
    "    \n",
    "        Blockchain bChain = Blockchain(q);\n",
    "\n",
    "        std::cout << \"Mining block 1...\" << std::endl;\n",
    "        bChain.AddBlock(q, Block(q, 1, \"Block 1 Data\"));\n",
    "\n",
    "//      std::cout << \"Mining block 2...\" << std::endl;\n",
    "//       bChain.AddBlock(q, Block(q, 2, \"Block 2 Data\"));\n",
    "\n",
    "//      std::cout << \"Mining block 3...\" << std::endl;\n",
    "//        bChain.AddBlock(q, Block(q, 3, \"Block 3 Data\"));\n",
    "\n",
    "    return 0;\n",
    "}\n"
   ]
  },
  {
   "cell_type": "markdown",
   "metadata": {},
   "source": [
    "### Build and Run\n",
    "Select the cell below and click Run ▶ to compile and execute the code above:"
   ]
  },
  {
   "cell_type": "code",
   "execution_count": 6,
   "metadata": {},
   "outputs": [
    {
     "name": "stdout",
     "output_type": "stream",
     "text": [
      "Job has been submitted to Intel(R) DevCloud and will execute soon.\n",
      "\n",
      " If you do not see result in 60 seconds, please restart the Jupyter kernel:\n",
      " Kernel -> 'Restart Kernel and Clear All Outputs...' and then try again\n",
      "\n",
      "Job ID                    Name             User            Time Use S Queue\n",
      "------------------------- ---------------- --------------- -------- - -----\n",
      "799209.v-qsvr-1            run-chain.sh     u62316          00:00:09 R batch          \n",
      "799307.v-qsvr-1            ...ub-singleuser u62316          00:00:25 R jupyterhub     \n",
      "799343.v-qsvr-1            run-chain.sh     u62316                 0 Q batch          \n",
      "\n",
      "Waiting for Output ████████████████████████████████████████████████████████████\n",
      "\n",
      "TimeOut 60 seconds: Job is still queued for execution, check for output file later (run-chain.sh.o799343)\n",
      "\n",
      " Done⬇\n",
      "\n",
      "########################################################################\n",
      "#      Date:           Mon 22 Feb 2021 11:21:22 AM PST\n",
      "#    Job ID:           799343.v-qsvr-1.aidevcloud\n",
      "#      User:           u62316\n",
      "# Resources:           neednodes=1:gpu:ppn=2,nodes=1:gpu:ppn=2,walltime=06:00:00\n",
      "########################################################################\n",
      "\n",
      "## u62316 is compiling DPCPP_Essentials Block Chain\n",
      "Device: Intel(R) Xeon(R) E-2176G CPU @ 3.70GHz\n",
      "Mining block 1...\n",
      "Device from MineBlock: Intel(R) Xeon(R) E-2176G CPU @ 3.70GHz\n",
      "Block mined: 000000b5082ec32ad9d1f1329cc4fa6096f10d2a31ad401674af0b403c920e26\n",
      "\n",
      "########################################################################\n",
      "# End of output for job 799343.v-qsvr-1.aidevcloud\n",
      "# Date: Mon 22 Feb 2021 11:22:18 AM PST\n",
      "########################################################################\n",
      "\n",
      "Job Completed in 60 seconds.\n"
     ]
    }
   ],
   "source": [
    "! chmod 755 q; chmod 755 run-chain.sh;if [ -x \"$(command -v qsub)\" ]; then ./q run-chain.sh; else ./run-chain.sh; fi "
   ]
  },
  {
   "cell_type": "code",
   "execution_count": null,
   "metadata": {},
   "outputs": [],
   "source": []
  }
 ],
 "metadata": {
  "kernelspec": {
   "display_name": "Python 3.7 (Intel® oneAPI)",
   "language": "python",
   "name": "c009-intel_distribution_of_python_3_oneapi-beta05-python"
  },
  "language_info": {
   "codemirror_mode": {
    "name": "ipython",
    "version": 3
   },
   "file_extension": ".py",
   "mimetype": "text/x-python",
   "name": "python",
   "nbconvert_exporter": "python",
   "pygments_lexer": "ipython3",
   "version": "3.7.9"
  }
 },
 "nbformat": 4,
 "nbformat_minor": 4
}
